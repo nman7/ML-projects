{
  "nbformat": 4,
  "nbformat_minor": 0,
  "metadata": {
    "colab": {
      "name": "Untitled2.ipynb",
      "version": "0.3.2",
      "provenance": []
    },
    "kernelspec": {
      "name": "python3",
      "display_name": "Python 3"
    }
  },
  "cells": [
    {
      "cell_type": "code",
      "metadata": {
        "id": "TYSj6wJEAh-o",
        "colab_type": "code",
        "colab": {
          "base_uri": "https://localhost:8080/",
          "height": 443
        },
        "outputId": "797fc220-ad91-4fea-eda9-9fedc1f3ce08"
      },
      "source": [
        "import pandas as pd\n",
        "import matplotlib.pyplot as plt\n",
        "df = pd.read_csv('train.csv')\n",
        "print(df.shape)\n",
        "print(df.count())\n",
        "print(df.describe())"
      ],
      "execution_count": 12,
      "outputs": [
        {
          "output_type": "stream",
          "text": [
            "(891, 12)\n",
            "PassengerId    891\n",
            "Survived       891\n",
            "Pclass         891\n",
            "Name           891\n",
            "Sex            891\n",
            "Age            714\n",
            "SibSp          891\n",
            "Parch          891\n",
            "Ticket         891\n",
            "Fare           891\n",
            "Cabin          204\n",
            "Embarked       889\n",
            "dtype: int64\n",
            "       PassengerId    Survived      Pclass  ...       SibSp       Parch        Fare\n",
            "count   891.000000  891.000000  891.000000  ...  891.000000  891.000000  891.000000\n",
            "mean    446.000000    0.383838    2.308642  ...    0.523008    0.381594   32.204208\n",
            "std     257.353842    0.486592    0.836071  ...    1.102743    0.806057   49.693429\n",
            "min       1.000000    0.000000    1.000000  ...    0.000000    0.000000    0.000000\n",
            "25%     223.500000    0.000000    2.000000  ...    0.000000    0.000000    7.910400\n",
            "50%     446.000000    0.000000    3.000000  ...    0.000000    0.000000   14.454200\n",
            "75%     668.500000    1.000000    3.000000  ...    1.000000    0.000000   31.000000\n",
            "max     891.000000    1.000000    3.000000  ...    8.000000    6.000000  512.329200\n",
            "\n",
            "[8 rows x 7 columns]\n"
          ],
          "name": "stdout"
        }
      ]
    },
    {
      "cell_type": "code",
      "metadata": {
        "id": "vWmEdyeLAoXa",
        "colab_type": "code",
        "colab": {
          "base_uri": "https://localhost:8080/",
          "height": 477
        },
        "outputId": "dd74cac1-76d5-44d9-aaad-c9a996b07e03"
      },
      "source": [
        "#percentage ofpeople survived or not.\n",
        "fig  = plt.figure(figsize=(5,5))\n",
        "df.Survived.value_counts(normalize=True).plot(kind = \"bar\",alpha = 1)\n",
        "plt.title(\"survived\")\n",
        "plt.show()\n",
        "#realtion b'ween age and survived\n",
        "plt.subplot2grid((2,3),(0,1))\n",
        "plt.scatter(df.Survived,df.Age,alpha=0.1)\n",
        "plt.title(\"age wrt survive\")\n",
        "plt.show()"
      ],
      "execution_count": 60,
      "outputs": [
        {
          "output_type": "display_data",
          "data": {
            "image/png": "[encoded data removed]",
            "text/plain": [
              "<Figure size 360x360 with 1 Axes>"
            ]
          },
          "metadata": {
            "tags": []
          }
        },
        {
          "output_type": "display_data",
          "data": {
            "image/png": "[encoded data removed]",
            "text/plain": [
              "<Figure size 432x288 with 1 Axes>"
            ]
          },
          "metadata": {
            "tags": []
          }
        }
      ]
    },
    {
      "cell_type": "code",
      "metadata": {
        "id": "QL-cC4gyA32Z",
        "colab_type": "code",
        "colab": {
          "base_uri": "https://localhost:8080/",
          "height": 477
        },
        "outputId": "0407f217-1630-4ffd-85f1-8853b175195c"
      },
      "source": [
        "#realtion b'ween class\n",
        "fig  = plt.figure(figsize=(5,5))\n",
        "df.Pclass.value_counts(normalize=True).plot(kind = \"bar\",alpha = 1)\n",
        "plt.title(\"Class\")\n",
        "plt.show()\n",
        "\n",
        "#realtion b'ween Class and age\n",
        "plt.subplot2grid((2,3),(1,0),colspan=2)\n",
        "for x in [1,2,3]:\n",
        "  df.Age[df.Pclass == x].plot(kind = \"kde\")\n",
        "plt.title(\"Class wrt Age\")\n",
        "plt.legend((\"1 class\",\"2 class\",\"3 class\"))\n",
        "plt.show()"
      ],
      "execution_count": 15,
      "outputs": [
        {
          "output_type": "display_data",
          "data": {
            "image/png": "[encoded data removed]",
            "text/plain": [
              "<Figure size 360x360 with 1 Axes>"
            ]
          },
          "metadata": {
            "tags": []
          }
        },
        {
          "output_type": "display_data",
          "data": {
            "image/png": "[encoded data removed]",
            "text/plain": [
              "<Figure size 432x288 with 1 Axes>"
            ]
          },
          "metadata": {
            "tags": []
          }
        }
      ]
    },
    {
      "cell_type": "code",
      "metadata": {
        "id": "5l9WRuIGA7gt",
        "colab_type": "code",
        "colab": {
          "base_uri": "https://localhost:8080/",
          "height": 647
        },
        "outputId": "4b525415-06e3-4095-c87a-3d30267f4592"
      },
      "source": [
        "#embarked\n",
        "fig  = plt.figure(figsize=(5,5))\n",
        "df.Embarked.value_counts(normalize=True).plot(kind = \"bar\",alpha = 1)\n",
        "plt.title(\"Embarked\")\n",
        "plt.show()\n",
        "\n",
        "#gender\n",
        "fig  = plt.figure(figsize=(5,5))\n",
        "df.Survived[df.Sex == 'male'].value_counts(normalize=True).plot(kind = \"bar\",alpha = 1)\n",
        "plt.title(\"male survived\")\n",
        "plt.show()"
      ],
      "execution_count": 19,
      "outputs": [
        {
          "output_type": "display_data",
          "data": {
            "image/png": "[encoded data removed]",
            "text/plain": [
              "<Figure size 360x360 with 1 Axes>"
            ]
          },
          "metadata": {
            "tags": []
          }
        },
        {
          "output_type": "display_data",
          "data": {
            "image/png": "[encoded data removed]",
            "text/plain": [
              "<Figure size 360x360 with 1 Axes>"
            ]
          },
          "metadata": {
            "tags": []
          }
        }
      ]
    },
    {
      "cell_type": "code",
      "metadata": {
        "id": "x6IU1npcBDLc",
        "colab_type": "code",
        "colab": {
          "base_uri": "https://localhost:8080/",
          "height": 675
        },
        "outputId": "7511fe03-509c-47ad-adc7-094c1692ebeb"
      },
      "source": [
        "#gender\n",
        "fig  = plt.figure(figsize=(5,5))\n",
        "df.Survived[df.Sex == 'female'].value_counts(normalize=True).plot(kind = \"bar\",alpha = 1)\n",
        "plt.title(\"female survived\")\n",
        "plt.show()\n",
        "\n",
        "\n",
        "#both gender\n",
        "fig  = plt.figure(figsize=(5,5))\n",
        "df.Sex[df.Survived == 1].value_counts(normalize=True).plot(kind = \"bar\",alpha = 0.5,color = [\"#FA0000\",'b'])\n",
        "plt.title(\"gender survival\")\n",
        "plt.show()\n"
      ],
      "execution_count": 24,
      "outputs": [
        {
          "output_type": "display_data",
          "data": {
            "image/png": "[encoded data removed]",
            "text/plain": [
              "<Figure size 360x360 with 1 Axes>"
            ]
          },
          "metadata": {
            "tags": []
          }
        },
        {
          "output_type": "display_data",
          "data": {
            "image/png": "[encoded data removed]",
            "text/plain": [
              "<Figure size 360x360 with 1 Axes>"
            ]
          },
          "metadata": {
            "tags": []
          }
        }
      ]
    },
    {
      "cell_type": "code",
      "metadata": {
        "id": "mkPE9SmPBJHk",
        "colab_type": "code",
        "colab": {
          "base_uri": "https://localhost:8080/",
          "height": 757
        },
        "outputId": "f65e65ba-85f8-4073-d033-ff6f87e52cc8"
      },
      "source": [
        "#kde class wrt survived\n",
        "plt.subplot2grid((3,4),(1,0),colspan=4)\n",
        "for x in [1,2,3]:\n",
        "  df.Survived[df.Pclass == x].plot(kind = \"kde\")\n",
        "plt.title(\"class w Survived\")\n",
        "plt.legend((\"1 class\",\"2 class\",\"3 class\"))\n",
        "plt.show()\n",
        "\n",
        "\n",
        "\n",
        "#\n",
        "fig  = plt.figure(figsize=(5,5))\n",
        "df.Survived[(df.Sex =='male') &( df.Pclass==1 )].value_counts(normalize=True).plot(kind = \"bar\",alpha = 1)\n",
        "plt.title(\"rich male survived\")\n",
        "plt.show()\n",
        "\n",
        "#\n",
        "fig  = plt.figure(figsize=(5,5))\n",
        "df.Survived[(df.Sex =='male') &( df.Pclass==3 )].value_counts(normalize=True).plot(kind = \"bar\",alpha = 1)\n",
        "plt.title(\"poor male survived\")\n",
        "plt.show()\n",
        "\n"
      ],
      "execution_count": 63,
      "outputs": [
        {
          "output_type": "display_data",
          "data": {
            "image/png": "[encoded data removed]",
            "text/plain": [
              "<Figure size 432x288 with 1 Axes>"
            ]
          },
          "metadata": {
            "tags": []
          }
        },
        {
          "output_type": "display_data",
          "data": {
            "image/png": "[encoded data removed]",
            "text/plain": [
              "<Figure size 360x360 with 1 Axes>"
            ]
          },
          "metadata": {
            "tags": []
          }
        },
        {
          "output_type": "display_data",
          "data": {
            "image/png": "[encoded data removed]",
            "text/plain": [
              "<Figure size 360x360 with 1 Axes>"
            ]
          },
          "metadata": {
            "tags": []
          }
        }
      ]
    },
    {
      "cell_type": "code",
      "metadata": {
        "id": "SQUlIuKWR6rO",
        "colab_type": "code",
        "colab": {
          "base_uri": "https://localhost:8080/",
          "height": 646
        },
        "outputId": "6cf6a6ce-bcd6-4e31-9c30-52733257e51b"
      },
      "source": [
        "#\n",
        "fig  = plt.figure(figsize=(5,5))\n",
        "df.Survived[(df.Sex =='female') &( df.Pclass==1 )].value_counts(normalize=True).plot(kind = \"bar\",alpha = 1)\n",
        "plt.title(\"rich female survived\")\n",
        "plt.show()\n",
        "\n",
        "#\n",
        "fig  = plt.figure(figsize=(5,5))\n",
        "df.Survived[(df.Sex =='female') &( df.Pclass==3 )].value_counts(normalize=True).plot(kind = \"bar\",alpha = 1)\n",
        "plt.title(\"poor female survived\")\n",
        "plt.show()"
      ],
      "execution_count": 62,
      "outputs": [
        {
          "output_type": "display_data",
          "data": {
            "image/png": "[encoded data removed]",
            "text/plain": [
              "<Figure size 360x360 with 1 Axes>"
            ]
          },
          "metadata": {
            "tags": []
          }
        },
        {
          "output_type": "display_data",
          "data": {
            "image/png": "[encoded data removed]",
            "text/plain": [
              "<Figure size 360x360 with 1 Axes>"
            ]
          },
          "metadata": {
            "tags": []
          }
        }
      ]
    },
    {
      "cell_type": "markdown",
      "metadata": {
        "id": "IiBDg1IlQCNz",
        "colab_type": "text"
      },
      "source": [
        "\n",
        "\n",
        "*   **Split dependent and independent variables**\n",
        "*   **Deal with missiing values using Imputer**\n",
        "\n",
        "\n",
        "*   **Label Encode Categorical Data**\n",
        "\n",
        "\n",
        "\n",
        "\n"
      ]
    },
    {
      "cell_type": "code",
      "metadata": {
        "id": "VS1YhRwFBMcV",
        "colab_type": "code",
        "colab": {
          "base_uri": "https://localhost:8080/",
          "height": 1228
        },
        "outputId": "d264577e-118a-4591-f47f-7856976106b5"
      },
      "source": [
        "import warnings\n",
        "warnings.filterwarnings('ignore')\n",
        "import pandas as pd\n",
        "import numpy as np\n",
        "import matplotlib.pyplot as plt\n",
        "\n",
        "Data = pd.read_csv(\"train.csv\")\n",
        "X = Data[['Pclass','Sex','Age','SibSp','Parch','Fare']]\n",
        "y = Data[['Survived']]\n",
        "\n",
        "\n",
        "# dealing with missing values\n",
        "\n",
        "from sklearn.preprocessing import Imputer\n",
        "imputer = Imputer(missing_values = 'NaN', strategy = 'mean', axis = 0)\n",
        "imputer = imputer.fit(X[['Age']])\n",
        "X[['Age']] = imputer.transform(X[['Age']])\n",
        "\n",
        "\n",
        "#dealing with categorical features\n",
        "\n",
        "from sklearn.preprocessing import LabelEncoder\n",
        "labelencoder_X = LabelEncoder()\n",
        "X[['Sex']] = labelencoder_X.fit_transform(X[['Sex']])\n",
        "\n",
        "\n",
        "#test set (g1)\n",
        "\n",
        "Data1 = pd.read_csv(\"test.csv\")\n",
        "g1 = Data1[['Pclass','Sex','Age','SibSp','Parch','Fare']]\n",
        "\n",
        "\n",
        "# dealing with missing values\n",
        "\n",
        "from sklearn.preprocessing import Imputer\n",
        "imputer = Imputer(missing_values = 'NaN', strategy = 'mean', axis = 0)\n",
        "imputer = imputer.fit(g1[['Age']])\n",
        "g1[['Age']] = imputer.transform(g1[['Age']])\n",
        "\n",
        "\n",
        "#dealing with categorical features\n",
        "\n",
        "from sklearn.preprocessing import LabelEncoder\n",
        "labelencoder_X = LabelEncoder()\n",
        "g1[['Sex']] = labelencoder_X.fit_transform(g1[['Sex']])\n",
        "print(g1)\n",
        "\n",
        "\n",
        "# Feature Scaling\n",
        "\n",
        "from sklearn.preprocessing import StandardScaler\n",
        "sc = StandardScaler()\n",
        "X = sc.fit_transform(X)\n",
        "g1 = sc.transform(g1)\n",
        "\n",
        "print(g1)\n"
      ],
      "execution_count": 64,
      "outputs": [
        {
          "output_type": "stream",
          "text": [
            "     Pclass  Sex       Age  SibSp  Parch      Fare\n",
            "0         3    1  34.50000      0      0    7.8292\n",
            "1         3    0  47.00000      1      0    7.0000\n",
            "2         2    1  62.00000      0      0    9.6875\n",
            "3         3    1  27.00000      0      0    8.6625\n",
            "4         3    0  22.00000      1      1   12.2875\n",
            "5         3    1  14.00000      0      0    9.2250\n",
            "6         3    0  30.00000      0      0    7.6292\n",
            "7         2    1  26.00000      1      1   29.0000\n",
            "8         3    0  18.00000      0      0    7.2292\n",
            "9         3    1  21.00000      2      0   24.1500\n",
            "10        3    1  30.27259      0      0    7.8958\n",
            "11        1    1  46.00000      0      0   26.0000\n",
            "12        1    0  23.00000      1      0   82.2667\n",
            "13        2    1  63.00000      1      0   26.0000\n",
            "14        1    0  47.00000      1      0   61.1750\n",
            "15        2    0  24.00000      1      0   27.7208\n",
            "16        2    1  35.00000      0      0   12.3500\n",
            "17        3    1  21.00000      0      0    7.2250\n",
            "18        3    0  27.00000      1      0    7.9250\n",
            "19        3    0  45.00000      0      0    7.2250\n",
            "20        1    1  55.00000      1      0   59.4000\n",
            "21        3    1   9.00000      0      1    3.1708\n",
            "22        1    0  30.27259      0      0   31.6833\n",
            "23        1    1  21.00000      0      1   61.3792\n",
            "24        1    0  48.00000      1      3  262.3750\n",
            "25        3    1  50.00000      1      0   14.5000\n",
            "26        1    0  22.00000      0      1   61.9792\n",
            "27        3    1  22.50000      0      0    7.2250\n",
            "28        1    1  41.00000      0      0   30.5000\n",
            "29        3    1  30.27259      2      0   21.6792\n",
            "..      ...  ...       ...    ...    ...       ...\n",
            "388       3    1  21.00000      0      0    7.7500\n",
            "389       3    1   6.00000      3      1   21.0750\n",
            "390       1    1  23.00000      0      0   93.5000\n",
            "391       1    0  51.00000      0      1   39.4000\n",
            "392       3    1  13.00000      0      2   20.2500\n",
            "393       2    1  47.00000      0      0   10.5000\n",
            "394       3    1  29.00000      3      1   22.0250\n",
            "395       1    0  18.00000      1      0   60.0000\n",
            "396       3    1  24.00000      0      0    7.2500\n",
            "397       1    0  48.00000      1      1   79.2000\n",
            "398       3    1  22.00000      0      0    7.7750\n",
            "399       3    1  31.00000      0      0    7.7333\n",
            "400       1    0  30.00000      0      0  164.8667\n",
            "401       2    1  38.00000      1      0   21.0000\n",
            "402       1    0  22.00000      0      1   59.4000\n",
            "403       1    1  17.00000      0      0   47.1000\n",
            "404       1    1  43.00000      1      0   27.7208\n",
            "405       2    1  20.00000      0      0   13.8625\n",
            "406       2    1  23.00000      1      0   10.5000\n",
            "407       1    1  50.00000      1      1  211.5000\n",
            "408       3    0  30.27259      0      0    7.7208\n",
            "409       3    0   3.00000      1      1   13.7750\n",
            "410       3    0  30.27259      0      0    7.7500\n",
            "411       1    0  37.00000      1      0   90.0000\n",
            "412       3    0  28.00000      0      0    7.7750\n",
            "413       3    1  30.27259      0      0    8.0500\n",
            "414       1    0  39.00000      0      0  108.9000\n",
            "415       3    1  38.50000      0      0    7.2500\n",
            "416       3    1  30.27259      0      0    8.0500\n",
            "417       3    1  30.27259      1      1   22.3583\n",
            "\n",
            "[418 rows x 6 columns]\n",
            "[[ 0.82737724  0.73769513  0.36944878 -0.4745452  -0.47367361 -0.49078316]\n",
            " [ 0.82737724 -1.35557354  1.33137817  0.43279337 -0.47367361 -0.50747884]\n",
            " [-0.36936484  0.73769513  2.48569343 -0.4745452  -0.47367361 -0.45336687]\n",
            " ...\n",
            " [ 0.82737724  0.73769513  0.67726619 -0.4745452  -0.47367361 -0.50244517]\n",
            " [ 0.82737724  0.73769513  0.04413122 -0.4745452  -0.47367361 -0.48633742]\n",
            " [ 0.82737724  0.73769513  0.04413122  0.43279337  0.76762988 -0.19824428]]\n"
          ],
          "name": "stdout"
        }
      ]
    },
    {
      "cell_type": "markdown",
      "metadata": {
        "id": "Oeg_Nxo6PREn",
        "colab_type": "text"
      },
      "source": [
        "\n",
        "\n",
        "*   **Apply Decision tree for prediction**\n",
        "*   **Evaluate with Grid Search**\n",
        "\n",
        "\n",
        "\n",
        "\n",
        "\n"
      ]
    },
    {
      "cell_type": "code",
      "metadata": {
        "id": "QsGmfgf_G5gC",
        "colab_type": "code",
        "colab": {
          "base_uri": "https://localhost:8080/",
          "height": 51
        },
        "outputId": "7982d9a5-0436-4896-8f4d-d9677b602875"
      },
      "source": [
        "from sklearn.tree import DecisionTreeClassifier\n",
        "tree = DecisionTreeClassifier()\n",
        "tree.fit(X, y)\n",
        "\n",
        "from sklearn.model_selection import GridSearchCV\n",
        "from sklearn.model_selection import cross_val_score\n",
        "hyperparams = [{'C':[1,10,100],'kernel':['linear']},{'C':[1,10,100],'kernel':['rbf'],'gamma':[0.05,0.04,0.03,0.01]}]\n",
        "gridsearch = GridSearchCV(estimator=classifier,  \n",
        "                     param_grid=hyperparams,\n",
        "                     scoring='accuracy',\n",
        "                     cv=10)\n",
        "gridsearch=gridsearch.fit(X,y) \n",
        "best_result = gridsearch.best_score_\n",
        "best_parameters = gridsearch.best_params_\n",
        "print(best_result)\n",
        "print(best_parameters)\n"
      ],
      "execution_count": 65,
      "outputs": [
        {
          "output_type": "stream",
          "text": [
            "0.8282828282828283\n",
            "{'C': 10, 'gamma': 0.04, 'kernel': 'rbf'}\n"
          ],
          "name": "stdout"
        }
      ]
    }
  ]
}